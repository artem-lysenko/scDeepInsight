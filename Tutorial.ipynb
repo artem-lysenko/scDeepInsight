{
 "cells": [
  {
   "cell_type": "code",
   "execution_count": 1,
   "id": "340243ab",
   "metadata": {},
   "outputs": [],
   "source": [
    "from scdeepinsight import pbmc\n",
    "from timeit import default_timer as timer"
   ]
  },
  {
   "cell_type": "code",
   "execution_count": 2,
   "id": "b702b5ec",
   "metadata": {},
   "outputs": [
    {
     "name": "stderr",
     "output_type": "stream",
     "text": [
      "/home/shangru/miniconda3/envs/sr/lib/python3.9/site-packages/scanpy/preprocessing/_simple.py:524: ImplicitModificationWarning: Trying to modify attribute `.obs` of view, initializing view as actual.\n",
      "  adata.obs[key_n_counts] = counts_per_cell\n"
     ]
    }
   ],
   "source": [
    "start = timer()\n",
    "#ImageTransform(query_path:str, barcode_path:str, image_path:str)\n",
    "#query_path: The absoulte path of the target scRNA-seq dataset (end with .h5ad).\n",
    "#barcode_path: The absoulte path where you wish to store the generated barcode file (end with .csv). \n",
    "#image_path: The absoulte path where you wish to store the generated image file (end with .npy).\n",
    "pbmc.ImageTransform(\"sample.h5ad\", \"barcode.csv\", \"image.npy\")"
   ]
  },
  {
   "cell_type": "code",
   "execution_count": 3,
   "id": "51544bb6",
   "metadata": {},
   "outputs": [
    {
     "name": "stdout",
     "output_type": "stream",
     "text": [
      "Loaded pretrained weights for efficientnet-b3\n"
     ]
    },
    {
     "data": {
      "text/html": [
       "<div>\n",
       "<style scoped>\n",
       "    .dataframe tbody tr th:only-of-type {\n",
       "        vertical-align: middle;\n",
       "    }\n",
       "\n",
       "    .dataframe tbody tr th {\n",
       "        vertical-align: top;\n",
       "    }\n",
       "\n",
       "    .dataframe thead th {\n",
       "        text-align: right;\n",
       "    }\n",
       "</style>\n",
       "<table border=\"1\" class=\"dataframe\">\n",
       "  <thead>\n",
       "    <tr style=\"text-align: right;\">\n",
       "      <th></th>\n",
       "      <th>0</th>\n",
       "    </tr>\n",
       "  </thead>\n",
       "  <tbody>\n",
       "    <tr>\n",
       "      <th>TGCGCAGCATCAGTAC-19</th>\n",
       "      <td>B memory</td>\n",
       "    </tr>\n",
       "    <tr>\n",
       "      <th>AAGGTTCCAACCGCCA-28</th>\n",
       "      <td>B naive</td>\n",
       "    </tr>\n",
       "    <tr>\n",
       "      <th>CTACCCACAGATGGGT-15</th>\n",
       "      <td>cDC2</td>\n",
       "    </tr>\n",
       "    <tr>\n",
       "      <th>ATAAGAGCACTAGTAC-26</th>\n",
       "      <td>B naive</td>\n",
       "    </tr>\n",
       "    <tr>\n",
       "      <th>TTATGCTCAATGCCAT-2</th>\n",
       "      <td>NK</td>\n",
       "    </tr>\n",
       "    <tr>\n",
       "      <th>...</th>\n",
       "      <td>...</td>\n",
       "    </tr>\n",
       "    <tr>\n",
       "      <th>TCTTTCCAGTGAAGAG-10</th>\n",
       "      <td>B memory</td>\n",
       "    </tr>\n",
       "    <tr>\n",
       "      <th>AGTCTTTCAGCTGTTA-28</th>\n",
       "      <td>NK</td>\n",
       "    </tr>\n",
       "    <tr>\n",
       "      <th>TTCTTAGTCTGCCCTA-17</th>\n",
       "      <td>NK</td>\n",
       "    </tr>\n",
       "    <tr>\n",
       "      <th>GGACATTAGACGCTTT-16</th>\n",
       "      <td>CD4 Naive</td>\n",
       "    </tr>\n",
       "    <tr>\n",
       "      <th>GGGTCTGAGACCTTTG-44</th>\n",
       "      <td>HSPC</td>\n",
       "    </tr>\n",
       "  </tbody>\n",
       "</table>\n",
       "<p>10229 rows × 1 columns</p>\n",
       "</div>"
      ],
      "text/plain": [
       "                             0\n",
       "TGCGCAGCATCAGTAC-19   B memory\n",
       "AAGGTTCCAACCGCCA-28    B naive\n",
       "CTACCCACAGATGGGT-15       cDC2\n",
       "ATAAGAGCACTAGTAC-26    B naive\n",
       "TTATGCTCAATGCCAT-2          NK\n",
       "...                        ...\n",
       "TCTTTCCAGTGAAGAG-10   B memory\n",
       "AGTCTTTCAGCTGTTA-28         NK\n",
       "TTCTTAGTCTGCCCTA-17         NK\n",
       "GGACATTAGACGCTTT-16  CD4 Naive\n",
       "GGGTCTGAGACCTTTG-44       HSPC\n",
       "\n",
       "[10229 rows x 1 columns]"
      ]
     },
     "execution_count": 3,
     "metadata": {},
     "output_type": "execute_result"
    }
   ],
   "source": [
    "#Annotate (barcode_path:str, image_path:str, batch_size:int = 128)\n",
    "#barcode_path: The absoulte path where you have stored the generated barcode file (end with .csv). \n",
    "#image_path: The absoulte path where you have stored the generated image file (end with .npy). \n",
    "#batch_size: The batch size you wish to load to the converted image dataset when using the pretrained model for annotation. Defaulted value is 128.\n",
    "pred_label = pbmc.Annotate(\"barcode.csv\", \"image.npy\", batch_size=128)\n",
    "pred_label"
   ]
  },
  {
   "cell_type": "code",
   "execution_count": 4,
   "id": "7141dfa4",
   "metadata": {},
   "outputs": [
    {
     "name": "stdout",
     "output_type": "stream",
     "text": [
      "Total time cost in the annotation process: 55.358 usec\n"
     ]
    }
   ],
   "source": [
    "end = timer()\n",
    "print(\"Total time cost in the annotation process: %.03f usec\" % (end - start))"
   ]
  },
  {
   "cell_type": "code",
   "execution_count": 5,
   "id": "6e5652fe",
   "metadata": {},
   "outputs": [
    {
     "data": {
      "text/html": [
       "<div>\n",
       "<style scoped>\n",
       "    .dataframe tbody tr th:only-of-type {\n",
       "        vertical-align: middle;\n",
       "    }\n",
       "\n",
       "    .dataframe tbody tr th {\n",
       "        vertical-align: top;\n",
       "    }\n",
       "\n",
       "    .dataframe thead th {\n",
       "        text-align: right;\n",
       "    }\n",
       "</style>\n",
       "<table border=\"1\" class=\"dataframe\">\n",
       "  <thead>\n",
       "    <tr style=\"text-align: right;\">\n",
       "      <th></th>\n",
       "      <th>celltype</th>\n",
       "    </tr>\n",
       "    <tr>\n",
       "      <th>barcode</th>\n",
       "      <th></th>\n",
       "    </tr>\n",
       "  </thead>\n",
       "  <tbody>\n",
       "    <tr>\n",
       "      <th>TGCGCAGCATCAGTAC-19</th>\n",
       "      <td>B memory</td>\n",
       "    </tr>\n",
       "    <tr>\n",
       "      <th>AAGGTTCCAACCGCCA-28</th>\n",
       "      <td>B naive</td>\n",
       "    </tr>\n",
       "    <tr>\n",
       "      <th>CTACCCACAGATGGGT-15</th>\n",
       "      <td>cDC2</td>\n",
       "    </tr>\n",
       "    <tr>\n",
       "      <th>ATAAGAGCACTAGTAC-26</th>\n",
       "      <td>B naive</td>\n",
       "    </tr>\n",
       "    <tr>\n",
       "      <th>TTATGCTCAATGCCAT-2</th>\n",
       "      <td>NK</td>\n",
       "    </tr>\n",
       "    <tr>\n",
       "      <th>...</th>\n",
       "      <td>...</td>\n",
       "    </tr>\n",
       "    <tr>\n",
       "      <th>TCTTTCCAGTGAAGAG-10</th>\n",
       "      <td>B memory</td>\n",
       "    </tr>\n",
       "    <tr>\n",
       "      <th>AGTCTTTCAGCTGTTA-28</th>\n",
       "      <td>NK</td>\n",
       "    </tr>\n",
       "    <tr>\n",
       "      <th>TTCTTAGTCTGCCCTA-17</th>\n",
       "      <td>NK</td>\n",
       "    </tr>\n",
       "    <tr>\n",
       "      <th>GGACATTAGACGCTTT-16</th>\n",
       "      <td>CD4 Naive</td>\n",
       "    </tr>\n",
       "    <tr>\n",
       "      <th>GGGTCTGAGACCTTTG-44</th>\n",
       "      <td>HSPC</td>\n",
       "    </tr>\n",
       "  </tbody>\n",
       "</table>\n",
       "<p>10229 rows × 1 columns</p>\n",
       "</div>"
      ],
      "text/plain": [
       "                      celltype\n",
       "barcode                       \n",
       "TGCGCAGCATCAGTAC-19   B memory\n",
       "AAGGTTCCAACCGCCA-28    B naive\n",
       "CTACCCACAGATGGGT-15       cDC2\n",
       "ATAAGAGCACTAGTAC-26    B naive\n",
       "TTATGCTCAATGCCAT-2          NK\n",
       "...                        ...\n",
       "TCTTTCCAGTGAAGAG-10   B memory\n",
       "AGTCTTTCAGCTGTTA-28         NK\n",
       "TTCTTAGTCTGCCCTA-17         NK\n",
       "GGACATTAGACGCTTT-16  CD4 Naive\n",
       "GGGTCTGAGACCTTTG-44       HSPC\n",
       "\n",
       "[10229 rows x 1 columns]"
      ]
     },
     "execution_count": 5,
     "metadata": {},
     "output_type": "execute_result"
    }
   ],
   "source": [
    "import pandas as pd\n",
    "# Use the provided real cell types to validate the annotation result\n",
    "real_label = pd.read_csv(\"real_sample_labels.csv\", index_col=0)\n",
    "real_label"
   ]
  },
  {
   "cell_type": "code",
   "execution_count": 6,
   "id": "c2c871c8",
   "metadata": {},
   "outputs": [
    {
     "name": "stdout",
     "output_type": "stream",
     "text": [
      "Accuray: 0.947, ARI = 0.958\n"
     ]
    }
   ],
   "source": [
    "from sklearn.metrics.cluster import adjusted_rand_score\n",
    "from sklearn.metrics import accuracy_score\n",
    "from sklearn import preprocessing\n",
    "ls = list(set(pd.unique(pred_label[0]).tolist()) | set(pd.unique(real_label[\"celltype\"]).tolist()))\n",
    "acc = accuracy_score(pred_label,real_label)\n",
    "le2 = preprocessing.LabelEncoder()\n",
    "le2.fit(ls)\n",
    "pred_label_2 = le2.transform(pred_label[0])\n",
    "real_label_2 = le2.transform(real_label[\"celltype\"])\n",
    "acc = accuracy_score(pred_label,real_label)\n",
    "ari = adjusted_rand_score(real_label_2, pred_label_2)\n",
    "print(\"Accuray: %.03f, ARI = %.03f\" % (acc, ari))"
   ]
  }
 ],
 "metadata": {
  "kernelspec": {
   "display_name": "Python 3 (ipykernel)",
   "language": "python",
   "name": "python3"
  },
  "language_info": {
   "codemirror_mode": {
    "name": "ipython",
    "version": 3
   },
   "file_extension": ".py",
   "mimetype": "text/x-python",
   "name": "python",
   "nbconvert_exporter": "python",
   "pygments_lexer": "ipython3",
   "version": "3.9.15"
  }
 },
 "nbformat": 4,
 "nbformat_minor": 5
}
